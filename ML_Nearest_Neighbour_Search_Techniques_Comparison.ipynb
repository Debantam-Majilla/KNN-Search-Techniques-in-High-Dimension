{
 "cells": [
  {
   "cell_type": "code",
   "execution_count": 2,
   "metadata": {},
   "outputs": [],
   "source": [
    "%matplotlib inline\n",
    "import numpy as np \n",
    "import matplotlib.pyplot as plt\n",
    "import matplotlib.image as mpimg\n",
    "import matplotlib\n",
    "import pandas as pd \n",
    "import seaborn as sns\n",
    "import os as os\n",
    "import sys\n",
    "import warnings\n",
    "import time"
   ]
  },
  {
   "cell_type": "code",
   "execution_count": 3,
   "metadata": {},
   "outputs": [],
   "source": [
    "sns.set(style='white', context='notebook', palette='deep')\n",
    "np.random.seed(2)\n",
    "from IPython.display import Image\n",
    "from matplotlib.colors import ListedColormap\n",
    "from sklearn import preprocessing, decomposition, tree,metrics\n",
    "from sklearn.neighbors import KNeighborsClassifier\n",
    "from sklearn.model_selection import train_test_split, cross_val_score\n",
    "from astropy.table import Table, Column\n",
    "from sklearn.preprocessing import LabelEncoder\n",
    "import itertools"
   ]
  },
  {
   "cell_type": "code",
   "execution_count": 3,
   "metadata": {},
   "outputs": [
    {
     "name": "stdout",
     "output_type": "stream",
     "text": [
      "(42000, 785)\n",
      "(28000, 784)\n"
     ]
    }
   ],
   "source": [
    "#%pwd\n",
    "train=pd.read_csv(r\"C:\\Users\\USER\\ML\\train.csv\")\n",
    "print(train.shape)\n",
    "test=pd.read_csv(r\"C:\\Users\\USER\\ML\\test.csv\")\n",
    "print(test.shape)\n"
   ]
  },
  {
   "cell_type": "code",
   "execution_count": 4,
   "metadata": {},
   "outputs": [
    {
     "name": "stderr",
     "output_type": "stream",
     "text": [
      "C:\\Users\\USER\\Anaconda3\\lib\\site-packages\\ipykernel_launcher.py:6: FutureWarning: Method .as_matrix will be removed in a future version. Use .values instead.\n",
      "  \n"
     ]
    },
    {
     "data": {
      "image/png": "[encoded data removed]",
      "text/plain": [
       "<Figure size 288x288 with 1 Axes>"
      ]
     },
     "metadata": {},
     "output_type": "display_data"
    },
    {
     "name": "stdout",
     "output_type": "stream",
     "text": [
      "Actual Digit : 7\n"
     ]
    }
   ],
   "source": [
    "l=train[\"label\"]\n",
    "d=train.drop(\"label\",axis=1)\n",
    "\n",
    "plt.figure(figsize=(4,4))\n",
    "index=120\n",
    "griddata=d.iloc[index].as_matrix().reshape(28,28)\n",
    "plt.imshow(griddata,cmap='gray')\n",
    "plt.show()\n",
    "\n",
    "#actual digit\n",
    "\n",
    "print(\"Actual Digit :\",l[index])"
   ]
  },
  {
   "cell_type": "code",
   "execution_count": 5,
   "metadata": {},
   "outputs": [
    {
     "data": {
      "text/plain": [
       "<matplotlib.axes._subplots.AxesSubplot at 0x109a28188>"
      ]
     },
     "execution_count": 5,
     "metadata": {},
     "output_type": "execute_result"
    },
    {
     "data": {
      "image/png": "[encoded data removed]",
      "text/plain": [
       "<Figure size 432x288 with 1 Axes>"
      ]
     },
     "metadata": {},
     "output_type": "display_data"
    }
   ],
   "source": [
    "sns.countplot(train['label'])"
   ]
  },
  {
   "cell_type": "code",
   "execution_count": 6,
   "metadata": {},
   "outputs": [
    {
     "data": {
      "image/png": "[encoded data removed]",
      "text/plain": [
       "<Figure size 864x576 with 25 Axes>"
      ]
     },
     "metadata": {},
     "output_type": "display_data"
    }
   ],
   "source": [
    "\n",
    "y = train.label.values\n",
    "X = train.drop(\"label\",axis=1).values\n",
    "X_train, X_test, y_train, y_test = train_test_split(X, y, test_size=0.4, random_state=0)\n",
    "fig1, ax1 = plt.subplots(1,25, figsize=(12,8))\n",
    "for i in range(25):\n",
    "    ax1[i].imshow(X_test[i].reshape((28,28)), cmap=\"gray\")\n",
    "    ax1[i].axis('off')\n",
    "    ax1[i].set_title(y_test[i])"
   ]
  },
  {
   "cell_type": "code",
   "execution_count": 7,
   "metadata": {},
   "outputs": [],
   "source": [
    "#converting label float values to string vlues\n",
    "DEBUG=False\n",
    "\n",
    "train['label'] = train['label'].astype(str)\n",
    "if DEBUG:\n",
    "    print(train['label'].describe())    \n",
    "   "
   ]
  },
  {
   "cell_type": "code",
   "execution_count": 8,
   "metadata": {},
   "outputs": [],
   "source": [
    "features_train =train.iloc[:,1:]\n",
    "target_train = train.iloc[:,0]\n",
    "\n",
    "features_test = test.iloc[:,0:]\n",
    "\n",
    "#Normalization.now all my flattend 784 values will be in range 0 to 1.\n",
    "features_train = features_train/255.0\n",
    "features_test = features_test/255.0"
   ]
  },
  {
   "cell_type": "code",
   "execution_count": 9,
   "metadata": {},
   "outputs": [
    {
     "name": "stdout",
     "output_type": "stream",
     "text": [
      "3584.125671815 seconds\n"
     ]
    }
   ],
   "source": [
    "#KNN ALGORITHM \n",
    "\n",
    "start_time = time.perf_counter()\n",
    "train_results = []\n",
    "test_results = []\n",
    "# search for an optimal value of k for KNN MOdel\n",
    "k_range = list(range(1,5))\n",
    "k_scores = []\n",
    "for k in k_range:\n",
    "    knn = KNeighborsClassifier(n_neighbors=k, n_jobs=-1, algorithm='auto', leaf_size=40, weights='uniform')\n",
    "    scores = cross_val_score(knn, features_train, target_train, cv=10, scoring='accuracy', n_jobs=-1)\n",
    "    k_scores.append(scores.mean())\n",
    "if DEBUG:\n",
    "    print(k_scores) \n",
    "print(time.perf_counter() - start_time, \"seconds\")       "
   ]
  },
  {
   "cell_type": "code",
   "execution_count": null,
   "metadata": {},
   "outputs": [],
   "source": [
    "if DEBUG:\n",
    "    scores = pd.DataFrame(k_scores)\n",
    "    print(scores)"
   ]
  },
  {
   "cell_type": "code",
   "execution_count": 10,
   "metadata": {},
   "outputs": [
    {
     "ename": "NameError",
     "evalue": "name 'k_range' is not defined",
     "output_type": "error",
     "traceback": [
      "\u001b[1;31m---------------------------------------------------------------------------\u001b[0m",
      "\u001b[1;31mNameError\u001b[0m                                 Traceback (most recent call last)",
      "\u001b[1;32m<ipython-input-10-23ee4c0a91db>\u001b[0m in \u001b[0;36m<module>\u001b[1;34m\u001b[0m\n\u001b[1;32m----> 1\u001b[1;33m \u001b[0mplt\u001b[0m\u001b[1;33m.\u001b[0m\u001b[0mplot\u001b[0m\u001b[1;33m(\u001b[0m\u001b[0mk_range\u001b[0m\u001b[1;33m,\u001b[0m \u001b[0mk_scores\u001b[0m\u001b[1;33m)\u001b[0m\u001b[1;33m\u001b[0m\u001b[1;33m\u001b[0m\u001b[0m\n\u001b[0m\u001b[0;32m      2\u001b[0m \u001b[0mplt\u001b[0m\u001b[1;33m.\u001b[0m\u001b[0mxlabel\u001b[0m\u001b[1;33m(\u001b[0m\u001b[1;34m'K Value for KNN'\u001b[0m\u001b[1;33m)\u001b[0m\u001b[1;33m\u001b[0m\u001b[1;33m\u001b[0m\u001b[0m\n\u001b[0;32m      3\u001b[0m \u001b[0mplt\u001b[0m\u001b[1;33m.\u001b[0m\u001b[0mylabel\u001b[0m\u001b[1;33m(\u001b[0m\u001b[1;34m'Cross-Validated Accuracy'\u001b[0m\u001b[1;33m)\u001b[0m\u001b[1;33m\u001b[0m\u001b[1;33m\u001b[0m\u001b[0m\n\u001b[0;32m      4\u001b[0m \u001b[0mplt\u001b[0m\u001b[1;33m.\u001b[0m\u001b[0mtitle\u001b[0m\u001b[1;33m(\u001b[0m\u001b[1;34m'KNN Model for Accuracy'\u001b[0m\u001b[1;33m)\u001b[0m\u001b[1;33m\u001b[0m\u001b[1;33m\u001b[0m\u001b[0m\n",
      "\u001b[1;31mNameError\u001b[0m: name 'k_range' is not defined"
     ]
    }
   ],
   "source": [
    "plt.plot(k_range, k_scores)\n",
    "plt.xlabel('K Value for KNN')\n",
    "plt.ylabel('Cross-Validated Accuracy')\n",
    "plt.title('KNN Model for Accuracy')"
   ]
  },
  {
   "cell_type": "code",
   "execution_count": 11,
   "metadata": {},
   "outputs": [
    {
     "name": "stdout",
     "output_type": "stream",
     "text": [
      "Accuracy: 0.97 (+/- 0.01)\n",
      "1546.741326696 seconds\n"
     ]
    }
   ],
   "source": [
    "#I set my K to be 3\n",
    "start_time = time.perf_counter()\n",
    "\n",
    "clf_knn = KNeighborsClassifier(n_neighbors=3, n_jobs=-1, algorithm='ball_tree', weights='distance')\n",
    "#print(clf_knn)\n",
    "clf_knn = clf_knn.fit(features_train, target_train)\n",
    "target_predicted_knn = clf_knn.predict(features_test)\n",
    "\n",
    "scores_knn = cross_val_score(clf_knn, features_train, target_train, cv=10, scoring='accuracy', n_jobs=-1)\n",
    "print(\"Accuracy: %0.2f (+/- %0.2f)\" % (scores_knn.mean(), scores_knn.std() * 2))\n",
    "\n",
    "\n",
    "print(time.perf_counter() - start_time, \"seconds\")"
   ]
  },
  {
   "cell_type": "code",
   "execution_count": 9,
   "metadata": {},
   "outputs": [
    {
     "name": "stdout",
     "output_type": "stream",
     "text": [
      "Accuracy: 0.97 (+/- 0.01)\n",
      "2008.285329821 seconds\n"
     ]
    }
   ],
   "source": [
    "start_time = time.perf_counter()\n",
    "\n",
    "\n",
    "clf_knn = KNeighborsClassifier(n_neighbors=3, n_jobs=-1, algorithm='kd_tree', leaf_size=40, weights='distance')\n",
    "#print(clf_knn)\n",
    "clf_knn = clf_knn.fit(features_train, target_train)\n",
    "target_predicted_knn = clf_knn.predict(features_test)\n",
    "\n",
    "scores_knn = cross_val_score(clf_knn, features_train, target_train, cv=10, scoring='accuracy', n_jobs=-1)\n",
    "print(\"Accuracy: %0.2f (+/- %0.2f)\" % (scores_knn.mean(), scores_knn.std() * 2))\n",
    "\n",
    "\n",
    "print(time.perf_counter() - start_time, \"seconds\")"
   ]
  },
  {
   "cell_type": "code",
   "execution_count": 11,
   "metadata": {},
   "outputs": [
    {
     "name": "stdout",
     "output_type": "stream",
     "text": [
      "Accuracy: 0.97 (+/- 0.01)\n",
      "321.1756658289996 seconds\n"
     ]
    }
   ],
   "source": [
    "start_time = time.perf_counter()\n",
    "clf_knn = KNeighborsClassifier(n_neighbors=3,n_jobs=-1,  algorithm='brute', weights='distance')\n",
    "\n",
    "#print(clf_knn)\n",
    "\n",
    "clf_knn = clf_knn.fit(features_train, target_train)\n",
    "\n",
    "target_predicted_knn = clf_knn.predict(features_test)\n",
    "\n",
    "scores_knn = cross_val_score(clf_knn, features_train, target_train, cv=10, scoring='accuracy', n_jobs=-1)\n",
    "print(\"Accuracy: %0.2f (+/- %0.2f)\" % (scores_knn.mean(), scores_knn.std() * 2))\n",
    "print(time.perf_counter() - start_time, \"seconds\")"
   ]
  },
  {
   "cell_type": "code",
   "execution_count": 10,
   "metadata": {},
   "outputs": [
    {
     "data": {
      "image/png": "[encoded data removed]",
      "text/plain": [
       "<Figure size 432x288 with 1 Axes>"
      ]
     },
     "metadata": {},
     "output_type": "display_data"
    }
   ],
   "source": [
    "fig = plt.figure()\n",
    "ax = fig.add_axes([0,0,1,1])\n",
    "Algo = ['brute_force', 'kd_tree', 'ball_tree']\n",
    "Times = [321.17,2008.2,1546.74]\n",
    "ax.bar(Algo,Times,color=\"r\")\n",
    "plt.ylabel('Time To Execute')\n",
    "plt.title('Search Tree Algo For 784 Dimensions  VS  Time Taken To Execute')\n",
    "plt.show()"
   ]
  },
  {
   "cell_type": "markdown",
   "metadata": {},
   "source": [
    "**Fruits Dataset which has 3 feactures & 1 Target column. Low dimension Data"
   ]
  },
  {
   "cell_type": "code",
   "execution_count": 4,
   "metadata": {
    "scrolled": true
   },
   "outputs": [
    {
     "name": "stdout",
     "output_type": "stream",
     "text": [
      "   fruit_label fruit_name fruit_subtype  mass  width  height  color_score\n",
      "0            1      apple  granny_smith   192    8.4     7.3         0.55\n",
      "1            1      apple  granny_smith   180    8.0     6.8         0.59\n",
      "2            1      apple  granny_smith   176    7.4     7.2         0.60\n",
      "3            2   mandarin      mandarin    86    6.2     4.7         0.80\n",
      "4            2   mandarin      mandarin    84    6.0     4.6         0.79\n",
      "(59, 7)\n"
     ]
    }
   ],
   "source": [
    "fruits=pd.read_table(r\"C:\\Users\\USER\\Desktop\\ML Project\\fruits.txt\")\n",
    "print(fruits.head())\n",
    "print(fruits.shape)\n"
   ]
  },
  {
   "cell_type": "code",
   "execution_count": 56,
   "metadata": {},
   "outputs": [
    {
     "name": "stdout",
     "output_type": "stream",
     "text": [
      "Accuracy:  73.33333333333333\n",
      "0.11016689200005203 seconds\n"
     ]
    }
   ],
   "source": [
    "from sklearn.model_selection import train_test_split\n",
    "from sklearn.neighbors import KNeighborsClassifier\n",
    "X=fruits[['mass','width','height']]\n",
    "Y=fruits['fruit_label']\n",
    "x_train,x_test,y_train,y_test=train_test_split(X,Y,random_state=0)\n",
    "\n",
    "start_time = time.perf_counter()\n",
    "knn=KNeighborsClassifier(n_neighbors=4,n_jobs=-1,  algorithm='brute', weights='distance')\n",
    "knn.fit(x_train,y_train)\n",
    "print(\"Accuracy: \",knn.score(x_test,y_test)*100)\n",
    "print(time.perf_counter() - start_time, \"seconds\")"
   ]
  },
  {
   "cell_type": "code",
   "execution_count": 35,
   "metadata": {},
   "outputs": [
    {
     "name": "stdout",
     "output_type": "stream",
     "text": [
      "Accuracy:  73.33333333333333\n",
      "0.007805774000189558 seconds\n"
     ]
    }
   ],
   "source": [
    "start_time = time.perf_counter()\n",
    "knn=KNeighborsClassifier(n_neighbors=4,n_jobs=1,  algorithm='kd_tree', weights='distance')\n",
    "knn.fit(x_train,y_train)\n",
    "print(\"Accuracy: \",knn.score(x_test,y_test)*100)\n",
    "print(time.perf_counter() - start_time, \"seconds\")"
   ]
  },
  {
   "cell_type": "code",
   "execution_count": 36,
   "metadata": {},
   "outputs": [
    {
     "name": "stdout",
     "output_type": "stream",
     "text": [
      "Accuracy:  73.33333333333333\n",
      "0.009809959000449453 seconds\n"
     ]
    }
   ],
   "source": [
    "start_time = time.perf_counter()\n",
    "knn=KNeighborsClassifier(n_neighbors=4,n_jobs=1,  algorithm='ball_tree', weights='distance')\n",
    "knn.fit(x_train,y_train)\n",
    "print(\"Accuracy: \",knn.score(x_test,y_test)*100)\n",
    "print(time.perf_counter() - start_time, \"seconds\")"
   ]
  },
  {
   "cell_type": "code",
   "execution_count": 5,
   "metadata": {},
   "outputs": [
    {
     "data": {
      "image/png": "[encoded data removed]",
      "text/plain": [
       "<Figure size 432x288 with 1 Axes>"
      ]
     },
     "metadata": {},
     "output_type": "display_data"
    }
   ],
   "source": [
    "fig = plt.figure()\n",
    "ax = fig.add_axes([0,0,1,1])\n",
    "Algo = ['brute_force', 'kd_tree', 'ball_tree']\n",
    "Times = [0.11016689200005203,0.007805774000189558,0.009809959000449453]\n",
    "ax.bar(Algo,Times)\n",
    "plt.ylabel('Time To Execute')\n",
    "plt.title('Search Tree Algo For 59x7 Fruits Data  VS  Time Taken To Execute')\n",
    "plt.show()"
   ]
  },
  {
   "cell_type": "code",
   "execution_count": 58,
   "metadata": {},
   "outputs": [
    {
     "name": "stdout",
     "output_type": "stream",
     "text": [
      "   Pregnancies  Glucose  BloodPressure  SkinThickness  Insulin   BMI  \\\n",
      "0            6      148             72             35        0  33.6   \n",
      "1            1       85             66             29        0  26.6   \n",
      "2            8      183             64              0        0  23.3   \n",
      "3            1       89             66             23       94  28.1   \n",
      "4            0      137             40             35      168  43.1   \n",
      "\n",
      "   DiabetesPedigreeFunction  Age  Outcome  \n",
      "0                     0.627   50        1  \n",
      "1                     0.351   31        0  \n",
      "2                     0.672   32        1  \n",
      "3                     0.167   21        0  \n",
      "4                     2.288   33        1  \n",
      "(768, 9)\n"
     ]
    }
   ],
   "source": [
    "Diabetes=pd.read_csv(r\"C:\\Users\\USER\\Desktop\\ML Project\\datasets_228_482_diabetes.csv\")\n",
    "print(Diabetes.head())\n",
    "print(Diabetes.shape)"
   ]
  },
  {
   "cell_type": "code",
   "execution_count": 43,
   "metadata": {},
   "outputs": [],
   "source": [
    "\n",
    "X=Diabetes.drop('Outcome',axis=1).values\n",
    "Y=Diabetes[\"Outcome\"].values\n",
    "trainx,testx,trainy,testy=train_test_split(X,Y,random_state=0)\n"
   ]
  },
  {
   "cell_type": "code",
   "execution_count": 62,
   "metadata": {},
   "outputs": [
    {
     "name": "stdout",
     "output_type": "stream",
     "text": [
      "Accuracy:  76.04166666666666\n",
      "0.1096947829992132 seconds\n"
     ]
    }
   ],
   "source": [
    "\n",
    "start_time = time.perf_counter()\n",
    "knn=KNeighborsClassifier(n_neighbors=7,n_jobs=-1,  algorithm='brute', weights='distance')\n",
    "knn.fit(trainx,trainy)\n",
    "print(\"Accuracy: \",knn.score(testx,testy)*100)\n",
    "brute_time=print(time.perf_counter() - start_time, \"seconds\")"
   ]
  },
  {
   "cell_type": "code",
   "execution_count": 63,
   "metadata": {},
   "outputs": [
    {
     "name": "stdout",
     "output_type": "stream",
     "text": [
      "Accuracy:  76.04166666666666\n",
      "0.007204802999694948 seconds\n"
     ]
    }
   ],
   "source": [
    "\n",
    "start_time = time.perf_counter()\n",
    "knn=KNeighborsClassifier(n_neighbors=7,n_jobs=1,  algorithm='kd_tree', weights='distance')\n",
    "knn.fit(trainx,trainy)\n",
    "print(\"Accuracy: \",knn.score(testx,testy)*100)\n",
    "kd_tree_time=print(time.perf_counter() - start_time, \"seconds\")"
   ]
  },
  {
   "cell_type": "code",
   "execution_count": 64,
   "metadata": {},
   "outputs": [
    {
     "name": "stdout",
     "output_type": "stream",
     "text": [
      "Accuracy:  76.04166666666666\n",
      "0.007813185999111738 seconds\n"
     ]
    }
   ],
   "source": [
    "start_time = time.perf_counter()\n",
    "knn=KNeighborsClassifier(n_neighbors=7,n_jobs=1,  algorithm='ball_tree', weights='distance')\n",
    "knn.fit(trainx,trainy)\n",
    "print(\"Accuracy: \",knn.score(testx,testy)*100)\n",
    "ball_tree_time=print(time.perf_counter() - start_time, \"seconds\")"
   ]
  },
  {
   "cell_type": "code",
   "execution_count": 6,
   "metadata": {},
   "outputs": [
    {
     "data": {
      "image/png": "[encoded data removed]",
      "text/plain": [
       "<Figure size 432x288 with 1 Axes>"
      ]
     },
     "metadata": {},
     "output_type": "display_data"
    }
   ],
   "source": [
    "\n",
    "\n",
    "fig = plt.figure()\n",
    "ax = fig.add_axes([0,0,1,1])\n",
    "Algo = ['brute_force', 'kd_tree', 'ball_tree']\n",
    "Times = [0.1096947829992132,0.007204802999694948,0.007813185999111738]\n",
    "ax.bar(Algo,Times)\n",
    "plt.ylabel('Time To Execute')\n",
    "plt.title('Search Tree Algo For 768x9 Dimensions  VS  Time Taken To Execute')\n",
    "plt.show()\n"
   ]
  },
  {
   "cell_type": "markdown",
   "metadata": {},
   "source": [
    "**MULTI LAYER PERCEPTRON (MLP) ON MNIST DATASET"
   ]
  },
  {
   "cell_type": "code",
   "execution_count": 97,
   "metadata": {},
   "outputs": [
    {
     "name": "stdout",
     "output_type": "stream",
     "text": [
      "MLPClassifier(activation='relu', alpha=0.0001, batch_size='auto', beta_1=0.9,\n",
      "              beta_2=0.999, early_stopping=False, epsilon=1e-08,\n",
      "              hidden_layer_sizes=(784,), learning_rate='constant',\n",
      "              learning_rate_init=0.001, max_iter=200, momentum=0.9,\n",
      "              n_iter_no_change=10, nesterovs_momentum=True, power_t=0.5,\n",
      "              random_state=None, shuffle=True, solver='adam', tol=0.0001,\n",
      "              validation_fraction=0.1, verbose=False, warm_start=True)\n",
      "758.2949768389808 seconds\n"
     ]
    }
   ],
   "source": [
    "start_time = time.perf_counter()\n",
    "from sklearn.neural_network import MLPClassifier\n",
    "\n",
    "clf_mlp = MLPClassifier(hidden_layer_sizes=(784,), warm_start=True)\n",
    "\n",
    "#print(clf_mlp)\n",
    "\n",
    "clf_mlp = clf_mlp.fit(features_train, target_train)\n",
    "\n",
    "target_predicted_mlp = clf_mlp.predict(features_test)\n",
    "print(time.perf_counter() - start_time, \"seconds\")"
   ]
  },
  {
   "cell_type": "code",
   "execution_count": 98,
   "metadata": {},
   "outputs": [
    {
     "name": "stdout",
     "output_type": "stream",
     "text": [
      "Cross Validation Score for MLP [0.98216833 0.97811608 0.97263208 0.9802428  0.98       0.97642296\n",
      " 0.97785187 0.98332142 0.98307912 0.97831268]\n",
      "Accuracy: 0.98 (+/- 0.01)\n",
      "5786.38867431198 seconds\n"
     ]
    }
   ],
   "source": [
    "start_time = time.perf_counter()\n",
    "\n",
    "scores_mlp = cross_val_score(clf_mlp, features_train, target_train, cv=10, n_jobs=-1, scoring='accuracy')\n",
    "print(\"Cross Validation Score for MLP\",scores_mlp)\n",
    "print(\"Accuracy: %0.2f (+/- %0.2f)\" % (scores_mlp.mean(), scores_mlp.std() * 2))\n",
    "\n",
    "print(time.perf_counter() - start_time, \"seconds\")"
   ]
  },
  {
   "cell_type": "markdown",
   "metadata": {},
   "source": [
    "**Convolutional Neural Network(CNN) Model ON MNIST DATASET"
   ]
  },
  {
   "cell_type": "code",
   "execution_count": 93,
   "metadata": {},
   "outputs": [
    {
     "name": "stdout",
     "output_type": "stream",
     "text": [
      "Train on 37800 samples, validate on 4200 samples\n",
      "Epoch 1/5\n",
      "37800/37800 [==============================] - 388s 10ms/sample - loss: 0.3640 - accuracy: 0.8945 - val_loss: 0.1386 - val_accuracy: 0.9571\n",
      "Epoch 2/5\n",
      "37800/37800 [==============================] - 400s 11ms/sample - loss: 0.1140 - accuracy: 0.9658 - val_loss: 0.0534 - val_accuracy: 0.9826\n",
      "Epoch 3/5\n",
      "37800/37800 [==============================] - 396s 10ms/sample - loss: 0.0890 - accuracy: 0.9734 - val_loss: 0.0477 - val_accuracy: 0.9860\n",
      "Epoch 4/5\n",
      "37800/37800 [==============================] - 398s 11ms/sample - loss: 0.0701 - accuracy: 0.9793 - val_loss: 0.0428 - val_accuracy: 0.9876\n",
      "Epoch 5/5\n",
      "37800/37800 [==============================] - 393s 10ms/sample - loss: 0.0637 - accuracy: 0.9816 - val_loss: 0.0507 - val_accuracy: 0.9845\n",
      "Accuracy on test data is: > 98.452\n",
      "1984.9328806090016 seconds\n"
     ]
    }
   ],
   "source": [
    "import tensorflow as tf \n",
    "import tensorflow.keras \n",
    "from tensorflow.keras.layers import Dense,BatchNormalization,Dropout\n",
    "from tensorflow.keras.wrappers.scikit_learn import KerasClassifier\n",
    "from tensorflow.keras.utils import to_categorical\n",
    "from tensorflow.keras.layers import Conv2D\n",
    "from tensorflow.keras.layers import MaxPooling2D\n",
    "from tensorflow.keras.layers import Flatten\n",
    "from tensorflow.keras.models import Sequential,Model\n",
    "import time\n",
    "\n",
    "X_train = features_train.values.reshape(-1,28,28,1)\n",
    "test = features_test.values.reshape(-1,28,28,1)\n",
    "\n",
    "Y_train = to_categorical(target_train, num_classes = 10)\n",
    "\n",
    "X_train, X_val, Y_train, Y_val = train_test_split(X_train, Y_train, test_size = 0.1, random_state=0)\n",
    "\n",
    "#g = plt.imshow(X_train[10][:,:,0])\n",
    "\n",
    "model = Sequential()\n",
    "\n",
    "model.add(Conv2D (32 ,(5,5), padding = 'same', strides=1, activation ='relu', input_shape = (28,28,1)))\n",
    "model.add(Conv2D(32,(5,5), padding = 'same', activation ='relu'))\n",
    "model.add(BatchNormalization())\n",
    "model.add(MaxPooling2D((2,2)))\n",
    " \n",
    "model.add(Conv2D(filters = 64, kernel_size = (3,3), strides=2, padding = 'same', activation ='relu'))\n",
    "model.add(Conv2D(filters = 64, kernel_size = (3,3), padding = 'same', activation ='relu'))\n",
    "model.add(BatchNormalization())\n",
    "model.add(MaxPooling2D((2,2)))\n",
    "              \n",
    "model.add(Dropout(rate = 0.5))\n",
    "model.add(Flatten())\n",
    "model.add(Dense(256, activation = \"relu\"))\n",
    "model.add(Dropout(0.5))\n",
    "model.add(Dense(10, activation = \"softmax\"))\n",
    "\n",
    "optimizer = tensorflow.keras.optimizers.Nadam(lr=0.002, beta_1=0.9, beta_2=0.999, epsilon=None, schedule_decay=0.004)\n",
    "\n",
    "\n",
    "start_time = time.perf_counter()\n",
    "model.compile(optimizer = optimizer, loss = \"categorical_crossentropy\", metrics=[\"accuracy\"])\n",
    "start_time = time.perf_counter()\n",
    "history = model.fit(X_train,Y_train, epochs=5, batch_size=86, validation_data=(X_val,Y_val), verbose=1)\n",
    "_, acc = model.evaluate(X_val,Y_val, verbose=0)\n",
    "\n",
    "print('Accuracy on test data is: > %.3f' % (acc * 100.0))\n",
    "             \n",
    "\n",
    "print(time.perf_counter() - start_time, \"seconds\")              "
   ]
  },
  {
   "cell_type": "code",
   "execution_count": 8,
   "metadata": {},
   "outputs": [
    {
     "data": {
      "image/png": "[encoded data removed]",
      "text/plain": [
       "<Figure size 432x288 with 1 Axes>"
      ]
     },
     "metadata": {},
     "output_type": "display_data"
    }
   ],
   "source": [
    "fig = plt.figure()\n",
    "ax = fig.add_axes([0,0,1,1])\n",
    "Algo = ['KNN', 'Multi_Layer_Perceptron', 'CNN']\n",
    "ACC = [97,98,98.452]\n",
    "ax.bar(Algo,ACC,color ='maroon')\n",
    "plt.ylabel('Accuracy')\n",
    "plt.title('MNIST DATA ACCURACY COMPARISON')\n",
    "plt.show()"
   ]
  }
 ],
 "metadata": {
  "kernelspec": {
   "display_name": "Python 3",
   "language": "python",
   "name": "python3"
  },
  "language_info": {
   "codemirror_mode": {
    "name": "ipython",
    "version": 3
   },
   "file_extension": ".py",
   "mimetype": "text/x-python",
   "name": "python",
   "nbconvert_exporter": "python",
   "pygments_lexer": "ipython3",
   "version": "3.7.4"
  }
 },
 "nbformat": 4,
 "nbformat_minor": 2
}
